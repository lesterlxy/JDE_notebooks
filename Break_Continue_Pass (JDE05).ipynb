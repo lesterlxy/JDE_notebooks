{
 "cells": [
  {
   "cell_type": "code",
   "execution_count": null,
   "id": "4e99216e",
   "metadata": {},
   "outputs": [
    {
     "name": "stdout",
     "output_type": "stream",
     "text": [
      "s c t p That's it!\n"
     ]
    }
   ],
   "source": [
    "for x in \"sctp_jde05\":  # This is a string \"\"\n",
    "    if x == \"_\":\n",
    "        break  # terminate the loop\n",
    "    print(x, end=\" \")\n",
    "\n",
    "print(\"That's it!\")"
   ]
  },
  {
   "cell_type": "code",
   "execution_count": null,
   "id": "322b4362",
   "metadata": {},
   "outputs": [
    {
     "name": "stdout",
     "output_type": "stream",
     "text": [
      "s c t p j d e 0 5 That's it!\n"
     ]
    }
   ],
   "source": [
    "# for this example, note that continue skips the execution\n",
    "# of print in the loop when the if condition is met\n",
    "for x in \"sctp_jde05\":\n",
    "    if x == \"_\":\n",
    "        continue  # continue to the beginning of the loop\n",
    "    print(x, end=\" \")\n",
    "\n",
    "print(\"That's it!\")"
   ]
  },
  {
   "cell_type": "code",
   "execution_count": null,
   "id": "0a5b59ff",
   "metadata": {},
   "outputs": [
    {
     "name": "stdout",
     "output_type": "stream",
     "text": [
      "s c t p _ j d e 0 5 That's it!\n"
     ]
    }
   ],
   "source": [
    "for x in \"sctp_jde05\":\n",
    "    if x == \"_\":\n",
    "        pass  # do nothing\n",
    "    print(x, end=\" \")\n",
    "\n",
    "print(\"That's it!\")"
   ]
  },
  {
   "cell_type": "code",
   "execution_count": null,
   "id": "87694b99",
   "metadata": {},
   "outputs": [],
   "source": []
  }
 ],
 "metadata": {
  "kernelspec": {
   "display_name": "Python 3 (ipykernel)",
   "language": "python",
   "name": "python3"
  },
  "language_info": {
   "codemirror_mode": {
    "name": "ipython",
    "version": 3
   },
   "file_extension": ".py",
   "mimetype": "text/x-python",
   "name": "python",
   "nbconvert_exporter": "python",
   "pygments_lexer": "ipython3",
   "version": "3.11.3"
  }
 },
 "nbformat": 4,
 "nbformat_minor": 5
}
