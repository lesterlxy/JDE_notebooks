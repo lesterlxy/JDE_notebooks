{
 "cells": [
  {
   "cell_type": "markdown",
   "metadata": {},
   "source": [
    "### Extracted code from DataCamp"
   ]
  },
  {
   "cell_type": "code",
   "execution_count": null,
   "metadata": {},
   "outputs": [],
   "source": [
    "# numpy and matplotlib imported, seed set\n",
    "import numpy as np\n",
    "import matplotlib.pyplot as plt\n",
    "\n",
    "np.random.seed(123) #assume seed as 123 following the pdf deck\n",
    "\n",
    "# Simulate random walk 500 times\n",
    "'''\n",
    "If it's 1 or 2 you'll go one step down.\n",
    "If it's 3, 4, or 5, you'll go one step up.\n",
    "If you throw a 6, you'll throw the die again and will walk up the resulting number of steps.\n",
    "\n",
    "Of course, you cannot go lower than step number 0. \n",
    "\n",
    "And also, you admit that you're a bit clumsy and have a chance of \n",
    "0.1% of falling down the stairs when you make a move. \n",
    "Falling down means that you have to start again from step 0. \n",
    "\n",
    "With all of this in mind, you bet with your friend that you'll reach 60 steps high.\n",
    "'''\n",
    "all_walks = []\n",
    "\n",
    "for i in range(500) : #500 runs\n",
    "    \n",
    "    random_walk = [0] #initialization \n",
    "    \n",
    "    for x in range(100) : #each time/run of 100 toss\n",
    "        step = random_walk[-1] #the last/previous step.\n",
    "        dice = np.random.randint(1,7) #a random dice throw outcome\n",
    "        if dice <= 2:\n",
    "            step = max(0, step - 1) #rule says minus 1 step, but cannot go below 0\n",
    "        elif dice <= 5:\n",
    "            step = step + 1 #or step += 1\n",
    "        else:\n",
    "            step = step + np.random.randint(1,7) #dice=6, and throw again\n",
    "        if np.random.rand() <= 0.001 : # So lucky...\n",
    "            step = 0\n",
    "        random_walk.append(step) # a list of the cumulative steps for 100 throws\n",
    "        \n",
    "    \n",
    "    all_walks.append(random_walk) # a nested list for the 500 runs of 100 throws"
   ]
  },
  {
   "cell_type": "code",
   "execution_count": null,
   "metadata": {
    "scrolled": true
   },
   "outputs": [],
   "source": [
    "len(all_walks)"
   ]
  },
  {
   "cell_type": "code",
   "execution_count": null,
   "metadata": {
    "scrolled": true
   },
   "outputs": [],
   "source": [
    "np.array(all_walks)"
   ]
  },
  {
   "cell_type": "code",
   "execution_count": null,
   "metadata": {},
   "outputs": [],
   "source": [
    "np.array(all_walks).shape #101 columns (though it is 100 toss) because we initialise the step = 0 at the beginning."
   ]
  },
  {
   "cell_type": "code",
   "execution_count": null,
   "metadata": {},
   "outputs": [],
   "source": [
    "np.array(all_walks)[:, -1] #all rows, last column"
   ]
  },
  {
   "cell_type": "code",
   "execution_count": null,
   "metadata": {
    "scrolled": true
   },
   "outputs": [],
   "source": [
    "np.transpose(np.array(all_walks))"
   ]
  },
  {
   "cell_type": "code",
   "execution_count": null,
   "metadata": {},
   "outputs": [],
   "source": [
    "np.transpose(np.array(all_walks))[-1,:] #last row, all columns"
   ]
  },
  {
   "cell_type": "code",
   "execution_count": null,
   "metadata": {
    "scrolled": true
   },
   "outputs": [],
   "source": [
    "# Create and plot np_aw_t\n",
    "np_aw_t = np.transpose(np.array(all_walks))\n",
    "\n",
    "# Select last row from np_aw_t: ends\n",
    "ends = np_aw_t[-1,:]\n",
    "\n",
    "# Plot histogram of ends, display plot\n",
    "plt.hist(ends)\n",
    "plt.show()"
   ]
  },
  {
   "cell_type": "code",
   "execution_count": null,
   "metadata": {},
   "outputs": [],
   "source": [
    "ends"
   ]
  },
  {
   "cell_type": "markdown",
   "metadata": {},
   "source": [
    "### Calculate the odds\n",
    "\n",
    "The histogram of the previous exercise was created from a NumPy array ends, that contains 500 integers. Each integer represents the end point of a random walk. To calculate the chance that this end point is greater than or equal to 60, you can count the number of integers in ends that are greater than or equal to 60 and divide that number by 500, the total number of simulations.\n",
    "\n",
    "Well then, what's the estimated chance that you'll reach at least 60 steps high if you play this Empire State Building game? The ends array is everything you need; it's available in your Python session so you can make calculations in the IPython Shell."
   ]
  },
  {
   "cell_type": "markdown",
   "metadata": {},
   "source": [
    "### DataCamp provided the hint to use np.mean. Why np.mean(ends>=60)?"
   ]
  },
  {
   "cell_type": "code",
   "execution_count": null,
   "metadata": {},
   "outputs": [],
   "source": [
    "np.mean(ends>=60)"
   ]
  },
  {
   "cell_type": "code",
   "execution_count": null,
   "metadata": {},
   "outputs": [],
   "source": [
    "# This gives us the Boolean output of which element is >=60\n",
    "ends>=60"
   ]
  },
  {
   "cell_type": "code",
   "execution_count": null,
   "metadata": {
    "scrolled": true
   },
   "outputs": [],
   "source": [
    "#count_nonzero() returns the count of True elements in the numpy array\n",
    "#We can use np.count_nonzero to count number of Trues\n",
    "#This is the same number we get if we count them.\n",
    "np.count_nonzero(ends>=60)"
   ]
  },
  {
   "cell_type": "markdown",
   "metadata": {},
   "source": [
    "**In this case, np.mean(ends>=60) is taking the average of True occurences across 500 samples. That is 392/500.**"
   ]
  },
  {
   "cell_type": "markdown",
   "metadata": {},
   "source": [
    "**Alternatively, we can do the following too to get the respective rows.**"
   ]
  },
  {
   "cell_type": "code",
   "execution_count": null,
   "metadata": {},
   "outputs": [],
   "source": [
    "ends[ends >= 60].shape[0]"
   ]
  },
  {
   "cell_type": "code",
   "execution_count": null,
   "metadata": {
    "scrolled": true
   },
   "outputs": [],
   "source": [
    "ends.shape[0]"
   ]
  },
  {
   "cell_type": "code",
   "execution_count": null,
   "metadata": {
    "scrolled": true
   },
   "outputs": [],
   "source": [
    "ends[ends >= 60].shape[0] / ends.shape[0]"
   ]
  },
  {
   "cell_type": "markdown",
   "metadata": {},
   "source": [
    "**Another approach:**"
   ]
  },
  {
   "cell_type": "code",
   "execution_count": null,
   "metadata": {},
   "outputs": [],
   "source": [
    "#Summing up and then dividing\n",
    "\n",
    "i = 0\n",
    "\n",
    "for x in ends: # iterating through the array \n",
    "    if x >= 60 :\n",
    "        i = i + 1 #calculate number of times that the end point reaches higher than 60\n",
    "\n",
    "print(i) #total number of such times\n",
    "print(i/500 *100) #percentage"
   ]
  },
  {
   "cell_type": "code",
   "execution_count": null,
   "metadata": {},
   "outputs": [],
   "source": [
    "ends.ndim"
   ]
  },
  {
   "cell_type": "code",
   "execution_count": null,
   "metadata": {},
   "outputs": [],
   "source": [
    "ends"
   ]
  },
  {
   "cell_type": "code",
   "execution_count": null,
   "metadata": {},
   "outputs": [],
   "source": []
  }
 ],
 "metadata": {
  "kernelspec": {
   "display_name": "Python 3 (ipykernel)",
   "language": "python",
   "name": "python3"
  },
  "language_info": {
   "codemirror_mode": {
    "name": "ipython",
    "version": 3
   },
   "file_extension": ".py",
   "mimetype": "text/x-python",
   "name": "python",
   "nbconvert_exporter": "python",
   "pygments_lexer": "ipython3",
   "version": "3.11.3"
  }
 },
 "nbformat": 4,
 "nbformat_minor": 4
}
