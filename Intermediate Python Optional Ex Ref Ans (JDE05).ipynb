{
 "cells": [
  {
   "cell_type": "markdown",
   "metadata": {},
   "source": [
    "### About Selenium"
   ]
  },
  {
   "cell_type": "markdown",
   "metadata": {},
   "source": [
    "Selenium is a powerful tool for controlling web browsers through programs and performing browser automation. It is functional for all browsers, works on all major OS and its scripts are written in various languages i.e. Python, Java, C#, etc. "
   ]
  },
  {
   "cell_type": "markdown",
   "metadata": {},
   "source": [
    "**Task**: Write a Python program to auto fill the google form\n",
    "\n",
    "This task is requiring you to program to fill multiple responses with the same Google form using Selenium in Python. Link to the Google form used in this example is given below:\n",
    "\n",
    "https://forms.gle/Szpu6TLVKzhAtEkb9 "
   ]
  },
  {
   "cell_type": "markdown",
   "metadata": {},
   "source": [
    "- First, do a pip install selenium at Anaconda Prompt, if this library is not installed as yet. (Alternatively, do this at Jupyter Notebook !pip install selenium)\n",
    "- On the Google Form, press Ctrl+Shift+c. This should open up a tab on the right.     \n",
    "- Select the element on the Google form that you would like to check out (e.g. Text field, Submit button), \n",
    "    - Right-click on the element, choose Inspect. \n",
    "    - Right click at corresponding code on the right tab, choose Copy -> Copy XPath\n",
    "- https://selenium-python.readthedocs.io/locating-elements.html\n",
    "- https://www.geeksforgeeks.org/selenium-python-basics/"
   ]
  },
  {
   "cell_type": "markdown",
   "metadata": {},
   "source": [
    "Example:\n",
    "\n",
    "//*[@id=\"mG61Hd\"]/div[2]/div/div[2]/div[1]/div/div/div[2]/div/div[1]/div/div[1]/input\n",
    "    \n",
    "//*[@id=\"mG61Hd\"]/div[2]/div/div[2]/div[3]/div/div/div[2]/div/div[1]/div[2]/textarea"
   ]
  },
  {
   "cell_type": "code",
   "execution_count": null,
   "metadata": {},
   "outputs": [],
   "source": [
    "!pip install selenium"
   ]
  },
  {
   "cell_type": "markdown",
   "metadata": {},
   "source": [
    "**Code using XPath**"
   ]
  },
  {
   "cell_type": "code",
   "execution_count": 1,
   "metadata": {},
   "outputs": [],
   "source": [
    "from selenium import webdriver\n",
    "import time\n",
    "\n",
    "# open Chrome\n",
    "web = webdriver.Chrome()\n",
    "\n",
    "# Google form link\n",
    "form_url = 'https://forms.gle/Szpu6TLVKzhAtEkb9'\n",
    "\n",
    "# data to fill in, each set in a list\n",
    "data = [\n",
    "   ['JDE student', 'JDE@gmail.com', '123456789', '2474  Hong Kong SAR', 'NA'],\n",
    "   ['JDE Instructor', 'JDE2@gmail.com', '987654321', ' 2143  Singapore', 'NA']\n",
    "   ]\n",
    "\n",
    "# corresponding xpaths of the fields\n",
    "xpaths = [\n",
    "    '//*[@id=\"mG61Hd\"]/div[2]/div/div[2]/div[1]/div/div/div[2]/div/div[1]/div/div[1]/input',\n",
    "    '//*[@id=\"mG61Hd\"]/div[2]/div/div[2]/div[2]/div/div/div[2]/div/div[1]/div/div[1]/input',\n",
    "    '//*[@id=\"mG61Hd\"]/div[2]/div/div[2]/div[3]/div/div/div[2]/div/div[1]/div[2]/textarea',\n",
    "    '//*[@id=\"mG61Hd\"]/div[2]/div/div[2]/div[4]/div/div/div[2]/div/div[1]/div/div[1]/input',\n",
    "    '//*[@id=\"mG61Hd\"]/div[2]/div/div[2]/div[5]/div/div/div[2]/div/div[1]/div[2]/textarea',\n",
    "    ]\n",
    "\n",
    "\n",
    "for i in range(len(data)): # data has length 2, this will iterate 2 times, one for each set of fields\n",
    "    # open URL\n",
    "    web.get(form_url)\n",
    "    \n",
    "    # wait for 1 second, until page gets fully loaded\n",
    "    time.sleep(1)\n",
    "    \n",
    "    # locate the submit button through its xpath\n",
    "    submit_button = web.find_element('xpath', '//*[@id=\"mG61Hd\"]/div[2]/div/div[3]/div[1]/div[1]/div/span/span')\n",
    "\n",
    "    for j in range(len(data[i])): #to iterate based on the length of each list\n",
    "        # reference the correponding xpath, and send the corresponding data\n",
    "        web.find_element('xpath', xpaths[j]).send_keys(data[i][j]) \n",
    "        \n",
    "    # click on submit button\n",
    "    submit_button.click()\n",
    "\n",
    "# close the window\n",
    "web.close()"
   ]
  },
  {
   "cell_type": "code",
   "execution_count": null,
   "metadata": {},
   "outputs": [],
   "source": []
  }
 ],
 "metadata": {
  "kernelspec": {
   "display_name": "Python 3 (ipykernel)",
   "language": "python",
   "name": "python3"
  },
  "language_info": {
   "codemirror_mode": {
    "name": "ipython",
    "version": 3
   },
   "file_extension": ".py",
   "mimetype": "text/x-python",
   "name": "python",
   "nbconvert_exporter": "python",
   "pygments_lexer": "ipython3",
   "version": "3.11.3"
  }
 },
 "nbformat": 4,
 "nbformat_minor": 4
}
