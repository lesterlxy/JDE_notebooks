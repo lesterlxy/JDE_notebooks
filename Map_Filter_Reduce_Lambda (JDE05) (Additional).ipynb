{
 "cells": [
  {
   "cell_type": "markdown",
   "id": "1a27537a",
   "metadata": {},
   "source": [
    "Attributed to\n",
    "\n",
    "https://medium.com/@utkarshshukla.author/pythons-powerful-trio-map-filter-and-reduce-for-simplifying-data-processing-f4ab79fd076f\n",
    "\n",
    "https://github.com/Utkarsh731/python-interview-coding/blob/main/map_filter_reduce.py\n",
    "\n",
    "https://www.w3schools.com\n"
   ]
  },
  {
   "cell_type": "markdown",
   "id": "bcf94a4b",
   "metadata": {},
   "source": [
    "### Lambda Function\n"
   ]
  },
  {
   "cell_type": "code",
   "execution_count": null,
   "id": "76d9c663",
   "metadata": {
    "scrolled": true
   },
   "outputs": [
    {
     "data": {
      "text/plain": [
       "15"
      ]
     },
     "execution_count": 1,
     "metadata": {},
     "output_type": "execute_result"
    }
   ],
   "source": [
    "\"\"\"\n",
    "https://www.w3schools.com/python/python_lambda.asp\n",
    "A lambda function is a small anonymous function.\n",
    "A lambda function can take any number of arguments, but can only have one expression.\n",
    "\n",
    "lambda arguments : expression\n",
    "\"\"\"\n",
    "\n",
    "x = lambda a: a + 10\n",
    "x(5)"
   ]
  },
  {
   "cell_type": "code",
   "execution_count": null,
   "id": "e874da44",
   "metadata": {},
   "outputs": [
    {
     "data": {
      "text/plain": [
       "8"
      ]
     },
     "execution_count": 2,
     "metadata": {},
     "output_type": "execute_result"
    }
   ],
   "source": [
    "x = lambda a, b: a + 10 - b\n",
    "x(5, 7)"
   ]
  },
  {
   "cell_type": "markdown",
   "id": "46158074",
   "metadata": {},
   "source": [
    "### Map Function\n"
   ]
  },
  {
   "cell_type": "code",
   "execution_count": null,
   "id": "caa54f1a",
   "metadata": {},
   "outputs": [
    {
     "data": {
      "text/plain": [
       "['appleorange', 'bananalemon', 'cherrypineapple']"
      ]
     },
     "execution_count": 3,
     "metadata": {},
     "output_type": "execute_result"
    }
   ],
   "source": [
    "\"\"\"\n",
    "https://www.w3schools.com/python/ref_func_map.asp\n",
    "Returns the specified iterator with the specified function applied to each item\n",
    "map(function, iterables)\n",
    "\"\"\"\n",
    "\n",
    "\n",
    "def myfunc(a, b):\n",
    "    return a + b\n",
    "\n",
    "\n",
    "x = map(myfunc, (\"apple\", \"banana\", \"cherry\"), (\"orange\", \"lemon\", \"pineapple\"))\n",
    "list(x)"
   ]
  },
  {
   "cell_type": "code",
   "execution_count": null,
   "id": "ba311ea3",
   "metadata": {},
   "outputs": [
    {
     "data": {
      "text/plain": [
       "[2, 4, 6, 8, 10]"
      ]
     },
     "execution_count": 4,
     "metadata": {},
     "output_type": "execute_result"
    }
   ],
   "source": [
    "# map\n",
    "# you have a list of integers and you want to double each one:\n",
    "\n",
    "numbers = [1, 2, 3, 4, 5]\n",
    "doubled_numbers = list(map(lambda x: x * 2, numbers))\n",
    "doubled_numbers"
   ]
  },
  {
   "cell_type": "code",
   "execution_count": null,
   "id": "dee7c8c0",
   "metadata": {},
   "outputs": [
    {
     "data": {
      "text/plain": [
       "[1, 2, 3, 4, 5]"
      ]
     },
     "execution_count": 5,
     "metadata": {},
     "output_type": "execute_result"
    }
   ],
   "source": [
    "# convert a list of strings to integers\n",
    "\n",
    "strings = [\"1\", \"2\", \"3\", \"4\", \"5\"]\n",
    "numbers = list(map(int, strings))\n",
    "numbers"
   ]
  },
  {
   "cell_type": "markdown",
   "id": "418d0dbc",
   "metadata": {},
   "source": [
    "### Filter Function\n"
   ]
  },
  {
   "cell_type": "code",
   "execution_count": null,
   "id": "56e846b3",
   "metadata": {},
   "outputs": [
    {
     "name": "stdout",
     "output_type": "stream",
     "text": [
      "18\n",
      "24\n",
      "32\n"
     ]
    }
   ],
   "source": [
    "\"\"\"\n",
    "https://www.w3schools.com/python/ref_func_filter.asp\n",
    "Use a filter function to exclude items in an iterable object\n",
    "filter(function, iterable)\n",
    "\"\"\"\n",
    "\n",
    "ages = [5, 12, 17, 18, 24, 32]\n",
    "\n",
    "\n",
    "def myFunc(x):\n",
    "    if x < 18:\n",
    "        return False\n",
    "    else:\n",
    "        return True\n",
    "\n",
    "\n",
    "adults = filter(myFunc, ages)\n",
    "\n",
    "for x in adults:\n",
    "    print(x)"
   ]
  },
  {
   "cell_type": "code",
   "execution_count": 7,
   "id": "6cb94fb6",
   "metadata": {},
   "outputs": [
    {
     "data": {
      "text/plain": [
       "[1, 3, 5]"
      ]
     },
     "execution_count": 7,
     "metadata": {},
     "output_type": "execute_result"
    }
   ],
   "source": [
    "# filter\n",
    "# list of numbers and you want to filter out the even ones:\n",
    "\n",
    "numbers = [1, 2, 3, 4, 5]\n",
    "odds = list(filter(lambda x: x % 2 != 0, numbers))\n",
    "odds"
   ]
  },
  {
   "cell_type": "code",
   "execution_count": 8,
   "id": "8fd7d632",
   "metadata": {},
   "outputs": [
    {
     "data": {
      "text/plain": [
       "['hello', 'world', 'python']"
      ]
     },
     "execution_count": 8,
     "metadata": {},
     "output_type": "execute_result"
    }
   ],
   "source": [
    "# remove empty strings from a list:\n",
    "\n",
    "strings = [\"hello\", \"\", \"world\", \"\", \"python\"]\n",
    "non_empty = list(filter(lambda x: len(x) > 0, strings))\n",
    "non_empty"
   ]
  },
  {
   "cell_type": "markdown",
   "id": "a378851a",
   "metadata": {},
   "source": [
    "### Reduce function in Functools module\n"
   ]
  },
  {
   "cell_type": "code",
   "execution_count": null,
   "id": "f38b3bf2",
   "metadata": {},
   "outputs": [
    {
     "name": "stdout",
     "output_type": "stream",
     "text": [
      "Sum of list1 : 26\n",
      "Maximum of list2 : xyz\n"
     ]
    }
   ],
   "source": [
    "\"\"\"\n",
    "https://www.geeksforgeeks.org/functools-module-in-python/\n",
    "Functools module is for higher-order functions that work on other functions. \n",
    "\n",
    "reduce(function, sequence[, initial]) -> value  \n",
    "It applies a function of two arguments repeatedly on the elements of a sequence \n",
    "so as to reduce the sequence to a single value. \n",
    "\n",
    "For example, reduce(lambda x, y: x^y, [1, 2, 3, 4]) calculates (((1^2)^3)^4). \n",
    "If the initial is present, it is placed first in the calculation, and the default result is when the sequence is empty. \n",
    "\"\"\"\n",
    "\n",
    "from functools import reduce\n",
    "\n",
    "list1 = [2, 4, 7, 9, 1, 3]\n",
    "sum_of_list1 = reduce(lambda a, b: a + b, list1)\n",
    "\n",
    "list2 = [\"abc\", \"xyz\", \"def\"]\n",
    "max_of_list2 = reduce(lambda a, b: a if a > b else b, list2)\n",
    "\n",
    "print(\"Sum of list1 :\", sum_of_list1)\n",
    "print(\"Maximum of list2 :\", max_of_list2)"
   ]
  },
  {
   "cell_type": "code",
   "execution_count": null,
   "id": "7b995089",
   "metadata": {},
   "outputs": [
    {
     "data": {
      "text/plain": [
       "5"
      ]
     },
     "execution_count": 10,
     "metadata": {},
     "output_type": "execute_result"
    }
   ],
   "source": [
    "list3 = [3, 5, 4]\n",
    "max_of_list3 = reduce(lambda a, b: a if a > b else b, list3)\n",
    "max_of_list3"
   ]
  },
  {
   "cell_type": "code",
   "execution_count": null,
   "id": "101340b5",
   "metadata": {},
   "outputs": [
    {
     "data": {
      "text/plain": [
       "15"
      ]
     },
     "execution_count": 11,
     "metadata": {},
     "output_type": "execute_result"
    }
   ],
   "source": [
    "# reduce\n",
    "\n",
    "from functools import reduce\n",
    "\n",
    "# list of numbers and you want to calculate their sum :\n",
    "numbers = [1, 2, 3, 4, 5]\n",
    "total = reduce(lambda x, y: x + y, numbers)\n",
    "total"
   ]
  },
  {
   "cell_type": "code",
   "execution_count": 12,
   "id": "ca7a4129",
   "metadata": {},
   "outputs": [
    {
     "data": {
      "text/plain": [
       "9"
      ]
     },
     "execution_count": 12,
     "metadata": {},
     "output_type": "execute_result"
    }
   ],
   "source": [
    "# find the maximum value in a list\n",
    "\n",
    "numbers = [1, 7, 3, 9, 5]\n",
    "max_number = reduce(lambda x, y: x if x > y else y, numbers)\n",
    "max_number"
   ]
  }
 ],
 "metadata": {
  "kernelspec": {
   "display_name": "pd",
   "language": "python",
   "name": "python3"
  },
  "language_info": {
   "codemirror_mode": {
    "name": "ipython",
    "version": 3
   },
   "file_extension": ".py",
   "mimetype": "text/x-python",
   "name": "python",
   "nbconvert_exporter": "python",
   "pygments_lexer": "ipython3",
   "version": "3.12.7"
  }
 },
 "nbformat": 4,
 "nbformat_minor": 5
}
