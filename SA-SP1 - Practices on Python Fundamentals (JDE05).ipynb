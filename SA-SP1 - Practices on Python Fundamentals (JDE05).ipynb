{
 "cells": [
  {
   "cell_type": "markdown",
   "metadata": {},
   "source": [
    "This notebook illustrates some examples observed (not exhaustive) from the DataCamp practices, and seeks to provide some other examples."
   ]
  },
  {
   "cell_type": "markdown",
   "metadata": {},
   "source": [
    "- https://practice.datacamp.com/p/3\n",
    "- https://practice.datacamp.com/p/80 \n",
    "- https://practice.datacamp.com/p/9"
   ]
  },
  {
   "cell_type": "code",
   "execution_count": 1,
   "metadata": {},
   "outputs": [],
   "source": [
    "import numpy as np "
   ]
  },
  {
   "cell_type": "markdown",
   "metadata": {},
   "source": [
    "#### Sort vs Sorted\n",
    "Sorted **function** does not effect the original sequence.\n",
    "\n",
    "sort() **list method** is very similar to sorted() but unlike sorted, it returns nothing and makes changes to the original sequence. Moreover, sort() is a method of list class and can only be used with lists."
   ]
  },
  {
   "cell_type": "markdown",
   "metadata": {},
   "source": [
    "- https://www.w3schools.com/python/ref_func_sorted.asp\n",
    "- https://www.geeksforgeeks.org/python-difference-between-sorted-and-sort/ "
   ]
  },
  {
   "cell_type": "code",
   "execution_count": 2,
   "metadata": {},
   "outputs": [
    {
     "data": {
      "text/plain": [
       "[3, -1, -2]"
      ]
     },
     "execution_count": 2,
     "metadata": {},
     "output_type": "execute_result"
    }
   ],
   "source": [
    "#True will sort descending. Default is False\n",
    "sorted([-1,3,-2], reverse = True)"
   ]
  },
  {
   "cell_type": "code",
   "execution_count": 3,
   "metadata": {},
   "outputs": [
    {
     "name": "stdout",
     "output_type": "stream",
     "text": [
      "[3, -1, -2]\n",
      "[-1, 3, -2]\n"
     ]
    }
   ],
   "source": [
    "#Sorted function does not change the original sequence\n",
    "y = [-1,3,-2]\n",
    "print(sorted(y, reverse = True))\n",
    "print(y)"
   ]
  },
  {
   "cell_type": "code",
   "execution_count": 4,
   "metadata": {},
   "outputs": [
    {
     "data": {
      "text/plain": [
       "[3, -1, -2]"
      ]
     },
     "execution_count": 4,
     "metadata": {},
     "output_type": "execute_result"
    }
   ],
   "source": [
    "#Sort method changes the original list\n",
    "y = [-1,3,-2]\n",
    "y.sort(reverse=True)\n",
    "y"
   ]
  },
  {
   "cell_type": "markdown",
   "metadata": {},
   "source": [
    "#### Indexing"
   ]
  },
  {
   "cell_type": "code",
   "execution_count": 5,
   "metadata": {},
   "outputs": [
    {
     "name": "stdout",
     "output_type": "stream",
     "text": [
      "29\n"
     ]
    }
   ],
   "source": [
    "x = [16, 2, 12, 9, 15, 17, 10]\n",
    "print(x[-2] + x[-5]) #list indexing the value 17 and 12"
   ]
  },
  {
   "cell_type": "code",
   "execution_count": 6,
   "metadata": {},
   "outputs": [
    {
     "name": "stdout",
     "output_type": "stream",
     "text": [
      "[8 4 6]\n"
     ]
    }
   ],
   "source": [
    "m = np.array([6, 2, 4]) \n",
    "n = 2 \n",
    "print(m + n)"
   ]
  },
  {
   "cell_type": "code",
   "execution_count": 7,
   "metadata": {},
   "outputs": [
    {
     "data": {
      "text/plain": [
       "array([12,  4,  8])"
      ]
     },
     "execution_count": 7,
     "metadata": {},
     "output_type": "execute_result"
    }
   ],
   "source": [
    "m + m"
   ]
  },
  {
   "cell_type": "code",
   "execution_count": 8,
   "metadata": {},
   "outputs": [
    {
     "ename": "TypeError",
     "evalue": "can only concatenate list (not \"int\") to list",
     "output_type": "error",
     "traceback": [
      "\u001b[1;31m---------------------------------------------------------------------------\u001b[0m",
      "\u001b[1;31mTypeError\u001b[0m                                 Traceback (most recent call last)",
      "Cell \u001b[1;32mIn[8], line 1\u001b[0m\n\u001b[1;32m----> 1\u001b[0m [\u001b[38;5;241m6\u001b[39m, \u001b[38;5;241m2\u001b[39m, \u001b[38;5;241m4\u001b[39m] \u001b[38;5;241m+\u001b[39m \u001b[38;5;241m2\u001b[39m\n",
      "\u001b[1;31mTypeError\u001b[0m: can only concatenate list (not \"int\") to list"
     ]
    }
   ],
   "source": [
    "[6, 2, 4] + 2 #This returns an error"
   ]
  },
  {
   "cell_type": "code",
   "execution_count": null,
   "metadata": {},
   "outputs": [],
   "source": [
    "x = [True, 100, 1, 0, False] \n",
    "a = 3 \n",
    "b = -2 \n",
    "\n",
    "#list indexing\n",
    "print(x[a] + x[b]) # x[3]+x[-2] = 0+0"
   ]
  },
  {
   "cell_type": "code",
   "execution_count": null,
   "metadata": {},
   "outputs": [],
   "source": [
    "import numpy as np \n",
    "np_2d = np.array([[2,3],[4,5]])  # note the 2 lists of equal length\n",
    "np_2d"
   ]
  },
  {
   "cell_type": "code",
   "execution_count": null,
   "metadata": {
    "scrolled": true
   },
   "outputs": [],
   "source": [
    "np_2d[-2,1] #row, column"
   ]
  },
  {
   "cell_type": "markdown",
   "metadata": {},
   "source": [
    "#### List "
   ]
  },
  {
   "cell_type": "code",
   "execution_count": null,
   "metadata": {},
   "outputs": [],
   "source": [
    "x = [\"1\", \"2\", \"3\", \"4\"]\n",
    "numbers = list (x)\n",
    "\n",
    "x[0] = \"0\"\n",
    "print(numbers[0])"
   ]
  },
  {
   "cell_type": "code",
   "execution_count": null,
   "metadata": {},
   "outputs": [],
   "source": [
    "x"
   ]
  },
  {
   "cell_type": "code",
   "execution_count": null,
   "metadata": {},
   "outputs": [],
   "source": [
    "l1 = [8, 3, 3, 4, 7, 6] \n",
    "p = l1.pop(3) # index position 3 which is the value 4\n",
    "\n",
    "print(p)\n",
    "print(l1)"
   ]
  },
  {
   "cell_type": "code",
   "execution_count": null,
   "metadata": {
    "scrolled": true
   },
   "outputs": [],
   "source": [
    "l1 = [8, 3, 3, 4, 7, 6] \n",
    "p = l1.pop() # last element, if not specified\n",
    "\n",
    "print(p)\n",
    "print(l1)"
   ]
  },
  {
   "cell_type": "code",
   "execution_count": null,
   "metadata": {},
   "outputs": [],
   "source": [
    "l = [8, 3, 3] \n",
    "e = [1,2,3]\n",
    "l + e"
   ]
  },
  {
   "cell_type": "code",
   "execution_count": null,
   "metadata": {},
   "outputs": [],
   "source": [
    "l = [8, 3, 3] \n",
    "e = [1,2,3]\n",
    "l.extend(e) # extend for a iterable\n",
    "l"
   ]
  },
  {
   "cell_type": "code",
   "execution_count": null,
   "metadata": {
    "scrolled": true
   },
   "outputs": [],
   "source": [
    "l = [8, 3, 3] \n",
    "e = [1,2,3]\n",
    "l.append(e) # append is for a single element.\n",
    "l"
   ]
  },
  {
   "cell_type": "markdown",
   "metadata": {},
   "source": [
    "#### Others"
   ]
  },
  {
   "cell_type": "code",
   "execution_count": null,
   "metadata": {},
   "outputs": [],
   "source": [
    "q = [48, 34, 6, 30, 13, 33]\n",
    "print(min (q))"
   ]
  },
  {
   "cell_type": "code",
   "execution_count": null,
   "metadata": {},
   "outputs": [],
   "source": [
    "import matplotlib.pyplot as plt \n",
    "days = [1, 2, 3, 4, 5] \n",
    "sales = [3, 5, 4, 2, 4] \n",
    "plt.plot(days, sales, color='red')\n",
    "plt.show()"
   ]
  },
  {
   "cell_type": "markdown",
   "metadata": {},
   "source": [
    "#### Get Method for Dictionary\n",
    "- https://www.w3schools.com/python/ref_dictionary_get.asp\n",
    "\n",
    "dictionary.get(keyname, value)\n",
    "\n",
    "- keyname\tRequired. The keyname of the item you want to return the value from\n",
    "- value\t    Optional. A value to return if the specified key does not exist. Default value None"
   ]
  },
  {
   "cell_type": "code",
   "execution_count": null,
   "metadata": {},
   "outputs": [],
   "source": [
    "#Dictionary\n",
    "\n",
    "dictionary = {'a':0, 'b':1, 'c':2, 'd':3}\n",
    "\n",
    "dictionary['c'] # getting value of key c\n"
   ]
  },
  {
   "cell_type": "code",
   "execution_count": null,
   "metadata": {
    "scrolled": true
   },
   "outputs": [],
   "source": [
    "d = {'a':10, 'b':11, 'c':12, 'd':13}\n",
    "\n",
    "v = d.get('a', 'Beep beep, error!') # get method in dictionary \n",
    "y = d.get('e', 'Beep beep, error!')\n",
    "\n",
    "print(v)\n",
    "print(y)"
   ]
  },
  {
   "cell_type": "markdown",
   "metadata": {},
   "source": [
    "#### Zip\n",
    "The zip() function returns a zip object, which is an iterator of tuples where the first item in each passed iterator is paired together, and then the second item in each passed iterator are paired together etc.\n",
    "- https://www.w3schools.com/python/ref_func_zip.asp\n",
    "\n",
    "zip(iterator1, iterator2, iterator3 ...)\n",
    "\n",
    "- iterable1, iterable2, iterable3 ...\tIterable objects that will be joined together"
   ]
  },
  {
   "cell_type": "markdown",
   "metadata": {},
   "source": [
    "#### List Comprehension\n",
    "List comprehension offers a shorter syntax when you want to create a new list based on the values of an existing list.\n",
    "- https://www.w3schools.com/python/python_lists_comprehension.asp\n",
    "\n",
    "newlist = [expression for item in iterable if condition == True]\n",
    "\n",
    "- The return value is a new list, leaving the old list unchanged."
   ]
  },
  {
   "cell_type": "code",
   "execution_count": null,
   "metadata": {},
   "outputs": [],
   "source": [
    "numbers =[1,2,7,0]\n",
    "\n",
    "numbers_cubed = [n**3 for n in numbers] # list comprehension\n",
    "\n",
    "numbers_cubed"
   ]
  },
  {
   "cell_type": "code",
   "execution_count": null,
   "metadata": {},
   "outputs": [],
   "source": [
    "print (list(zip(numbers, numbers_cubed))) # zip"
   ]
  },
  {
   "cell_type": "code",
   "execution_count": null,
   "metadata": {},
   "outputs": [],
   "source": [
    "z = list(zip(numbers, numbers_cubed))\n",
    "z"
   ]
  },
  {
   "cell_type": "markdown",
   "metadata": {},
   "source": [
    "#### Enumerate\n",
    "enumerate(iterable, start=0)\n",
    "\n",
    "https://www.programiz.com/python-programming/methods/built-in/enumerate"
   ]
  },
  {
   "cell_type": "markdown",
   "metadata": {},
   "source": [
    "The enumerate() function adds a counter to an iterable and returns it. The returned object is an enumerate object.\n",
    "\n",
    "- An enumerate object is an iterator that produces a sequence of tuples, each containing an index and the value from the iterable.\n",
    "- We can convert enumerate objects to lists and tuples using list() and tuple() functions, respectively."
   ]
  },
  {
   "cell_type": "code",
   "execution_count": null,
   "metadata": {},
   "outputs": [],
   "source": [
    "n1 = [3, 5, 8, 1]\n",
    "\n",
    "n2 = [n ** 2 for n in n1]\n",
    "n2"
   ]
  },
  {
   "cell_type": "code",
   "execution_count": null,
   "metadata": {},
   "outputs": [],
   "source": [
    "pairs = zip(n1, n2)\n",
    "list(pairs)"
   ]
  },
  {
   "cell_type": "code",
   "execution_count": null,
   "metadata": {},
   "outputs": [],
   "source": [
    "pairs = zip(n1, n2)\n",
    "list(enumerate(pairs))"
   ]
  },
  {
   "cell_type": "code",
   "execution_count": null,
   "metadata": {},
   "outputs": [],
   "source": [
    "pairs = zip(n1, n2)\n",
    "\n",
    "for idx, pair in enumerate(pairs):\n",
    "    print(idx, pair)"
   ]
  },
  {
   "cell_type": "code",
   "execution_count": null,
   "metadata": {
    "scrolled": false
   },
   "outputs": [],
   "source": [
    "pairs = zip(n1, n2)\n",
    "\n",
    "for idx, pair in enumerate(pairs):\n",
    "    n, m = pair\n",
    "    print('{} ^ {} = {}'.format(n, 2, m))"
   ]
  },
  {
   "cell_type": "markdown",
   "metadata": {},
   "source": [
    "#### Optional"
   ]
  },
  {
   "cell_type": "markdown",
   "metadata": {},
   "source": [
    "#### Collections\n",
    "This module implements specialized container datatypes providing alternatives to Python’s general purpose built-in containers, dict, list, set, and tuple.\n",
    "\n",
    "- https://docs.python.org/3/library/collections.html"
   ]
  },
  {
   "cell_type": "markdown",
   "metadata": {},
   "source": [
    "#### Counter\n",
    "\"Counter is a subclass of dict that’s specially designed for **counting** hashable objects in Python. It’s a dictionary that **stores objects as keys and counts as values.** To count with Counter, you typically provide a sequence or iterable of hashable objects as an argument to the class’s constructor.\"\n",
    "- https://www.geeksforgeeks.org/python-counter-objects-elements/\n",
    "- https://docs.python.org/3/library/collections.html#collections.Counter"
   ]
  },
  {
   "cell_type": "code",
   "execution_count": null,
   "metadata": {},
   "outputs": [],
   "source": [
    "# import counter class from collections module\n",
    "from collections import Counter"
   ]
  },
  {
   "cell_type": "code",
   "execution_count": null,
   "metadata": {},
   "outputs": [],
   "source": [
    "chars = [2, 2, 0, 0, 0, 1, 1, 0, 1, 4]\n",
    "char_count = Counter(chars)\n",
    "print(char_count)"
   ]
  },
  {
   "cell_type": "code",
   "execution_count": null,
   "metadata": {},
   "outputs": [],
   "source": [
    "char_count.most_common(2)"
   ]
  },
  {
   "cell_type": "code",
   "execution_count": null,
   "metadata": {
    "scrolled": true
   },
   "outputs": [],
   "source": [
    "x = Counter(\"geeksforgeeks\")\n",
    "x"
   ]
  },
  {
   "cell_type": "markdown",
   "metadata": {},
   "source": [
    "#### DefaultDict\n",
    "\"Defaultdict is a container like dictionaries present in the module collections. Defaultdict is a sub-class of the dictionary class that **returns a dictionary-like object.** \n",
    "\n",
    "\n",
    "**The functionality of both dictionaries and defaultdict are almost same except for the fact that defaultdict never raises a KeyError. It provides a default value for the key that does not exists.\"**\n",
    "- https://www.geeksforgeeks.org/defaultdict-in-python/\n",
    "\n",
    "\n",
    "Syntax: defaultdict(default_factory)\n",
    "\n",
    "Parameters: default_factory: A function returning the default value for the dictionary defined. If this argument is absent then the dictionary raises a KeyError."
   ]
  },
  {
   "cell_type": "code",
   "execution_count": null,
   "metadata": {
    "scrolled": false
   },
   "outputs": [],
   "source": [
    "dictionary = {'a':0, 'b':1, 'c':2, 'd':3}\n",
    "dictionary['e'] # no such key, expect error"
   ]
  },
  {
   "cell_type": "code",
   "execution_count": null,
   "metadata": {},
   "outputs": [],
   "source": [
    "from collections import defaultdict\n",
    "  \n",
    "d = defaultdict(int) # missing keys will have a default integer value of 0.\n",
    "\n",
    "for x in range(4): # x = 0, 1, 2, 3\n",
    "    d[x] = x * 2\n",
    "    \n",
    "print(d.items())"
   ]
  },
  {
   "cell_type": "code",
   "execution_count": null,
   "metadata": {},
   "outputs": [],
   "source": [
    "d"
   ]
  },
  {
   "cell_type": "code",
   "execution_count": null,
   "metadata": {},
   "outputs": [],
   "source": [
    "d[4] # no error return, but a default int value returned"
   ]
  }
 ],
 "metadata": {
  "kernelspec": {
   "display_name": "pd",
   "language": "python",
   "name": "python3"
  },
  "language_info": {
   "codemirror_mode": {
    "name": "ipython",
    "version": 3
   },
   "file_extension": ".py",
   "mimetype": "text/x-python",
   "name": "python",
   "nbconvert_exporter": "python",
   "pygments_lexer": "ipython3",
   "version": "3.12.7"
  }
 },
 "nbformat": 4,
 "nbformat_minor": 4
}
